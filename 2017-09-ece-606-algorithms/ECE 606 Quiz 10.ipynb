{
 "cells": [
  {
   "cell_type": "markdown",
   "metadata": {},
   "source": [
    "# Quiz 10"
   ]
  },
  {
   "cell_type": "markdown",
   "metadata": {},
   "source": [
    "## Problem 1"
   ]
  },
  {
   "cell_type": "markdown",
   "metadata": {},
   "source": [
    "Give pseudo-code for the verification algorithm that is mentioned in Slide 37, Lecture 14 for the language $\\texttt{Iso}$, and the certificate mentioned there.\n",
    "\n",
    "**Slide 37, Lecture 14**\n",
    "* Graph-isomorphism\n",
    "* given two graphs, $G_1 = \\langle V_1, E_1\\rangle$ ; $G_2 = \\langle V_2, E_2\\rangle$, \n",
    "* an invertible mapping, $m: V_1 \\rightarrow V_2$\n",
    "* such that $\\langle u, v\\rangle \\in E_1$ if and only if $\\langle m(u), m(v)\\rangle \\in E_2$.\n",
    "* \"If and only if\" is 2 conditions, and can be written as such:\n",
    "    * IF $\\langle u, v\\rangle \\in E_1$ **THEN** $\\langle m(u), m(v)\\rangle \\in E_2$, and\n",
    "    * IF $\\langle m(u), m(v)\\rangle \\in E_2$ **THEN** $\\langle u, v\\rangle \\in E_1$\n",
    "\n",
    "<img style=\"width: 400px;\" src=\"quiz10/tricky-counter-example.png\"/>"
   ]
  },
  {
   "cell_type": "markdown",
   "metadata": {},
   "source": [
    "## Problem 2"
   ]
  }
 ],
 "metadata": {
  "kernelspec": {
   "display_name": "Python [default]",
   "language": "python",
   "name": "python2"
  },
  "language_info": {
   "codemirror_mode": {
    "name": "ipython",
    "version": 2
   },
   "file_extension": ".py",
   "mimetype": "text/x-python",
   "name": "python",
   "nbconvert_exporter": "python",
   "pygments_lexer": "ipython2",
   "version": "2.7.13"
  },
  "toc": {
   "nav_menu": {},
   "number_sections": true,
   "sideBar": true,
   "skip_h1_title": false,
   "toc_cell": false,
   "toc_position": {},
   "toc_section_display": "block",
   "toc_window_display": false
  }
 },
 "nbformat": 4,
 "nbformat_minor": 2
}
