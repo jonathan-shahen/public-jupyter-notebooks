{
 "cells": [
  {
   "cell_type": "markdown",
   "metadata": {},
   "source": [
    "# Linear Time Sorting"
   ]
  },
  {
   "cell_type": "markdown",
   "metadata": {},
   "source": [
    "Please see chapter 8 in \"Introduction to Algorithms\" by C.L.R.S."
   ]
  },
  {
   "cell_type": "markdown",
   "metadata": {},
   "source": [
    "In this notebook, I will show code that is $\\mathcal{O}(k + n)$, where $k$ is the largest value element in the array, and $n$ is the number of elements in the array to be sorted. when $k = \\mathcal{O}(n)$, then this algorithm is able to run in $\\mathcal{O}(n)$ time.\n",
    "\n",
    "There are many applications where the values in an array are limited to be within some polynomial of the size of the array. Permutations are a wide spread application, where given an array of size $n$ the values are in the range $[1,n]$ and are distinct. Another example is having a list of \"categories\" and the values inside the array are all from this list; thus we can \"sort by category\" and if we also attach extra information we can sort complex data by this categorical information. Examples are sorting movies by genre, where you define each genre by a number in a list."
   ]
  },
  {
   "cell_type": "markdown",
   "metadata": {},
   "source": [
    "## Counting Sort"
   ]
  },
  {
   "cell_type": "code",
   "execution_count": 46,
   "metadata": {},
   "outputs": [
    {
     "name": "stdout",
     "output_type": "stream",
     "text": [
      "A: [2, 2, 2, 3, 1, 0, 0]\n",
      "-----------------\n",
      "[counting_sort] C length: 4\n",
      "[counting_sort] B length: 7\n",
      "\n",
      "[counting_sort] # C[i] now contains the number of elements equal to i\n",
      "[counting_sort] C: [2, 1, 3, 1]\n",
      "\n",
      "[counting_sort] # C[i] now contains the number of elements <= i\n",
      "[counting_sort] C: [2, 3, 6, 7]\n",
      "\n",
      "[counting_sort] B[C[A[6]]-1] = B[C[0]-1] = B[2-1] = B[1] = 0\n",
      "[counting_sort] B[C[A[5]]-1] = B[C[0]-1] = B[1-1] = B[0] = 0\n",
      "[counting_sort] B[C[A[4]]-1] = B[C[1]-1] = B[3-1] = B[2] = 1\n",
      "[counting_sort] B[C[A[3]]-1] = B[C[3]-1] = B[7-1] = B[6] = 3\n",
      "[counting_sort] B[C[A[2]]-1] = B[C[2]-1] = B[6-1] = B[5] = 2\n",
      "[counting_sort] B[C[A[1]]-1] = B[C[2]-1] = B[5-1] = B[4] = 2\n",
      "[counting_sort] B[C[A[0]]-1] = B[C[2]-1] = B[4-1] = B[3] = 2\n",
      "\n",
      "[counting_sort] C: [0, 2, 3, 6]\n"
     ]
    },
    {
     "data": {
      "text/plain": [
       "[0, 0, 1, 2, 2, 2, 3]"
      ]
     },
     "execution_count": 46,
     "metadata": {},
     "output_type": "execute_result"
    }
   ],
   "source": [
    "def counting_sort(A, k, debug=False):\n",
    "    \"\"\"\n",
    "    Inputs: A (array to be sorted), k (largest value in A)\n",
    "    Outputs: B (array, A but sorted)\n",
    "    Notes:\n",
    "        A is untouched, non-destructive\n",
    "        This algorithm creates 2 arrays:\n",
    "            B -- size(1,len(A)); this stores the sorted array and returned\n",
    "            C -- size(1,k); \n",
    "                this is used to hold how many of each element is stored in A and\n",
    "                then to store how many elements are stored that is less than or equal\n",
    "                to the current index.\n",
    "    \"\"\"\n",
    "    dstr = '[counting_sort] '\n",
    "    C = [0] * (k + 1)\n",
    "    B = [None] * len(A)\n",
    "    if debug:\n",
    "        print('{}C length: {}\\n{}B length: {}\\n'.format(\n",
    "            dstr, len(C), dstr, len(B)))\n",
    "\n",
    "    for j in range(len(A)):\n",
    "        C[A[j]] += 1\n",
    "    if debug:\n",
    "        print(\n",
    "            '{}# C[i] now contains the number of elements equal to i\\n{}C: {}\\n'.\n",
    "            format(dstr, dstr, C))\n",
    "\n",
    "    for i in range(1, k + 1):\n",
    "        C[i] += C[i - 1]\n",
    "    if debug:\n",
    "        print('{}# C[i] now contains the number of elements <= i\\n{}C: {}\\n'.\n",
    "              format(dstr, dstr, C))\n",
    "\n",
    "    for j in range(len(A) - 1, -1, -1):\n",
    "        if debug:\n",
    "            print('{}B[C[A[{}]]-1] = B[C[{}]-1] = B[{}-1] = B[{}] = {}'.format(\n",
    "                dstr, j, A[j], C[A[j]], C[A[j]] - 1, A[j]))\n",
    "        B[C[A[j]] - 1] = A[j]\n",
    "        C[A[j]] -= 1\n",
    "\n",
    "    if debug: print('\\n{}C: {}'.format(dstr, C))\n",
    "\n",
    "    return B\n",
    "\n",
    "\n",
    "A = [2, 2, 2, 3, 1, 0, 0]\n",
    "print('A: {}\\n-----------------'.format(A))\n",
    "counting_sort(A, 3, debug=True)"
   ]
  },
  {
   "cell_type": "markdown",
   "metadata": {},
   "source": [
    "### Questions"
   ]
  },
  {
   "cell_type": "markdown",
   "metadata": {},
   "source": [
    "1. What assumptions are made on the input array $A$?\n",
    "1. Can we extend `counting_sort` to allow floating point arrays? What limitation would that approach have?\n",
    "1. Can you think of an example where it is advantageous to not perform inplace sorting? (meaning: when we return a new sorted array instead of alterating A)\n",
    "1. How would you prove that the above function is correct?\n",
    "    * What if I told you there was a bug in my code, is your proof based on the code or the explanation of what it does?"
   ]
  },
  {
   "cell_type": "markdown",
   "metadata": {},
   "source": [
    "## Counting Sort using Dictionaries"
   ]
  },
  {
   "cell_type": "code",
   "execution_count": 5,
   "metadata": {},
   "outputs": [
    {
     "name": "stdout",
     "output_type": "stream",
     "text": [
      "A: [2, 2, 2, 30, 1, 0, 0]\n",
      "-----------------\n",
      "[counting_sort] C length: 1\n",
      "[counting_sort] B length: 7\n",
      "\n",
      "[counting_sort] # C[i] now contains the number of elements equal to i\n",
      "[counting_sort] C: {0: 2, 1: 1, 2: 3, 30: 1}\n",
      "\n",
      "[counting_sort] # C[i] now contains the number of elements <= i\n",
      "[counting_sort] C: {0: 2, 1: 3, 2: 6, 30: 7}\n",
      "\n",
      "[counting_sort] B[C[A[6]]-1] = B[C[0]-1] = B[2-1] = B[1] = 0\n",
      "[counting_sort] B[C[A[5]]-1] = B[C[0]-1] = B[1-1] = B[0] = 0\n",
      "[counting_sort] B[C[A[4]]-1] = B[C[1]-1] = B[3-1] = B[2] = 1\n",
      "[counting_sort] B[C[A[3]]-1] = B[C[30]-1] = B[7-1] = B[6] = 30\n",
      "[counting_sort] B[C[A[2]]-1] = B[C[2]-1] = B[6-1] = B[5] = 2\n",
      "[counting_sort] B[C[A[1]]-1] = B[C[2]-1] = B[5-1] = B[4] = 2\n",
      "[counting_sort] B[C[A[0]]-1] = B[C[2]-1] = B[4-1] = B[3] = 2\n",
      "\n",
      "[counting_sort] C: {0: 0, 1: 2, 2: 3, 30: 6}\n"
     ]
    },
    {
     "data": {
      "text/plain": [
       "[0, 0, 1, 2, 2, 2, 30]"
      ]
     },
     "execution_count": 5,
     "metadata": {},
     "output_type": "execute_result"
    }
   ],
   "source": [
    "def counting_sort_dic(A, k, debug=False):\n",
    "    \"\"\"\n",
    "    Inputs: A (array to be sorted), k (largest value in A)\n",
    "    Outputs: B (array, A but sorted)\n",
    "    Notes:\n",
    "        A is untouched, non-destructive\n",
    "        This algorithm creates 2 arrays:\n",
    "            B -- size(1,len(A)); this stores the sorted array and returned\n",
    "            C -- dictionary; \n",
    "                this is used to hold how many of each element is stored in A and\n",
    "                then to store how many elements are stored that is less than or equal\n",
    "                to the current index.\n",
    "    \"\"\"\n",
    "    dstr = '[counting_sort] '\n",
    "    C = {0:0}\n",
    "    B = [None] * len(A)\n",
    "    if debug:\n",
    "        print('{}C length: {}\\n{}B length: {}\\n'.format(\n",
    "            dstr, len(C), dstr, len(B)))\n",
    "\n",
    "    for j in range(len(A)):\n",
    "        if A[j] in C:\n",
    "            C[A[j]] += 1\n",
    "        else:\n",
    "            C[A[j]] = 1\n",
    "    if debug:\n",
    "        print(\n",
    "            '{}# C[i] now contains the number of elements equal to i\\n{}C: {}\\n'.\n",
    "            format(dstr, dstr, C))\n",
    "\n",
    "    \n",
    "    keys = C.keys()\n",
    "    keys.sort()\n",
    "    total = 0\n",
    "    for i in keys:\n",
    "        oldCount = C[i]\n",
    "        C[i] += total\n",
    "        total += oldCount\n",
    "    if debug:\n",
    "        print('{}# C[i] now contains the number of elements <= i\\n{}C: {}\\n'.\n",
    "              format(dstr, dstr, C))\n",
    "\n",
    "    # for j from |A|-1 downto 0 (because we have a zero index system)\n",
    "    for j in range(len(A) - 1, -1, -1):\n",
    "        if debug:\n",
    "            print('{}B[C[A[{}]]-1] = B[C[{}]-1] = B[{}-1] = B[{}] = {}'.format(\n",
    "                dstr, j, A[j], C[A[j]], C[A[j]] - 1, A[j]))\n",
    "        B[C[A[j]] - 1] = A[j]\n",
    "        C[A[j]] -= 1\n",
    "\n",
    "    if debug: print('\\n{}C: {}'.format(dstr, C))\n",
    "\n",
    "    return B\n",
    "\n",
    "\n",
    "A = [2, 2, 2, 30, 1, 0, 0]\n",
    "print('A: {}\\n-----------------'.format(A))\n",
    "counting_sort_dic(A, 3, debug=True)"
   ]
  },
  {
   "cell_type": "markdown",
   "metadata": {},
   "source": [
    "## Modified Counting Sort with Objects"
   ]
  },
  {
   "cell_type": "markdown",
   "metadata": {},
   "source": [
    "In this section I will show you a useful method of sorting movies by ratings (where the value of a rating is 1-10)."
   ]
  },
  {
   "cell_type": "code",
   "execution_count": 47,
   "metadata": {
    "scrolled": false
   },
   "outputs": [
    {
     "name": "stdout",
     "output_type": "stream",
     "text": [
      "[counting_sort] C length: 11\n",
      "[counting_sort] B length: 7\n",
      "\n",
      "[counting_sort] # C[i] now contains the number of elements equal to i\n",
      "[counting_sort] C: [0, 0, 0, 0, 0, 2, 0, 1, 3, 1, 0]\n",
      "\n",
      "[counting_sort] # C[i] now contains the number of elements <= i\n",
      "[counting_sort] C: [0, 0, 0, 0, 0, 2, 2, 3, 6, 7, 7]\n",
      "\n",
      "[counting_sort] B[C[A[6]]-1] = B[C[{'rating': 8, 'title': 'Dead Poets Society'}]-1] = B[6-1] = B[5] = 8\n",
      "[counting_sort] B[C[A[5]]-1] = B[C[{'rating': 5, 'title': 'Suburbicon'}]-1] = B[2-1] = B[1] = 5\n",
      "[counting_sort] B[C[A[4]]-1] = B[C[{'rating': 5, 'title': 'First Kill'}]-1] = B[1-1] = B[0] = 5\n",
      "[counting_sort] B[C[A[3]]-1] = B[C[{'rating': 8, 'title': 'Jaws'}]-1] = B[5-1] = B[4] = 8\n",
      "[counting_sort] B[C[A[2]]-1] = B[C[{'rating': 8, 'title': 'Baby Driver'}]-1] = B[4-1] = B[3] = 8\n",
      "[counting_sort] B[C[A[1]]-1] = B[C[{'rating': 7, 'title': 'Life'}]-1] = B[3-1] = B[2] = 7\n",
      "[counting_sort] B[C[A[0]]-1] = B[C[{'rating': 9, 'title': 'The Godfather'}]-1] = B[7-1] = B[6] = 9\n",
      "\n",
      "[counting_sort] C: [0, 0, 0, 0, 0, 0, 2, 2, 3, 6, 7]\n"
     ]
    },
    {
     "data": {
      "text/plain": [
       "[{'rating': 5, 'title': 'First Kill'},\n",
       " {'rating': 5, 'title': 'Suburbicon'},\n",
       " {'rating': 7, 'title': 'Life'},\n",
       " {'rating': 8, 'title': 'Baby Driver'},\n",
       " {'rating': 8, 'title': 'Jaws'},\n",
       " {'rating': 8, 'title': 'Dead Poets Society'},\n",
       " {'rating': 9, 'title': 'The Godfather'}]"
      ]
     },
     "execution_count": 47,
     "metadata": {},
     "output_type": "execute_result"
    }
   ],
   "source": [
    "def counting_sort_mod(A, key, k, debug=False):\n",
    "    \"\"\"\n",
    "    Inputs: \n",
    "        A   -- array of objects to be sorted, \n",
    "        key -- key in objects to sort by\n",
    "        k   -- largest value in A\n",
    "    Outputs: B-- sorted array of objects A, sorted using key 'key'\n",
    "    Notes:\n",
    "        A is untouched, non-destructive\n",
    "        This algorithm creates 2 arrays:\n",
    "            B -- size(1,len(A)); this stores the sorted array and returned\n",
    "            C -- size(1,k); this is used to \n",
    "    \"\"\"\n",
    "    dstr = '[counting_sort] '\n",
    "    C = [0] * (k + 1)\n",
    "    B = [None] * len(A)\n",
    "    if debug:\n",
    "        print('{}C length: {}\\n{}B length: {}\\n'.format(\n",
    "            dstr, len(C), dstr, len(B)))\n",
    "\n",
    "    for j in range(len(A)):\n",
    "        C[A[j][key]] += 1\n",
    "    if debug:\n",
    "        print(\n",
    "            '{}# C[i] now contains the number of elements equal to i\\n{}C: {}\\n'.\n",
    "            format(dstr, dstr, C))\n",
    "\n",
    "    for i in range(1, k + 1):\n",
    "        C[i] += C[i - 1]\n",
    "    if debug:\n",
    "        print('{}# C[i] now contains the number of elements <= i\\n{}C: {}\\n'.\n",
    "              format(dstr, dstr, C))\n",
    "\n",
    "    for j in range(len(A) - 1, -1, -1):\n",
    "        if debug:\n",
    "            print('{}B[C[A[{}]]-1] = B[C[{}]-1] = B[{}-1] = B[{}] = {}'.format(\n",
    "                dstr, j, A[j], C[A[j][key]], C[A[j][key]] - 1, A[j][key]))\n",
    "        B[C[A[j][key]] - 1] = A[j]\n",
    "        C[A[j][key]] -= 1\n",
    "\n",
    "    if debug: print('\\n{}C: {}'.format(dstr, C))\n",
    "\n",
    "    return B\n",
    "\n",
    "\n",
    "# Load data from IMBD, MediaCritic, etc\n",
    "movies = [{\n",
    "    'title': 'The Godfather',\n",
    "    'rating': 9\n",
    "}, {\n",
    "    'title': 'Life',\n",
    "    'rating': 7\n",
    "}, {\n",
    "    'title': 'Baby Driver',\n",
    "    'rating': 8\n",
    "}, {\n",
    "    'title': 'Jaws',\n",
    "    'rating': 8\n",
    "}, {\n",
    "    'title': 'First Kill',\n",
    "    'rating': 5\n",
    "}, {\n",
    "    'title': 'Suburbicon',\n",
    "    'rating': 5\n",
    "}, {\n",
    "    'title': 'Dead Poets Society',\n",
    "    'rating': 8\n",
    "}]\n",
    "\n",
    "counting_sort_mod(movies, 'rating', 10, debug=True)"
   ]
  },
  {
   "cell_type": "markdown",
   "metadata": {},
   "source": [
    "## Bucket Sort"
   ]
  },
  {
   "cell_type": "markdown",
   "metadata": {},
   "source": [
    "Another linear time sorting algorithm is bucket sort, which assumes more of the input array than couting sort. Bucket sort assumes that the values in the input array $A$ are bounded $[0,1)$ and has a uniform distribution."
   ]
  },
  {
   "cell_type": "code",
   "execution_count": 48,
   "metadata": {},
   "outputs": [
    {
     "name": "stdout",
     "output_type": "stream",
     "text": [
      "[bucket_sort] n = 7\n",
      "[bucket_sort] Performing sort on B[1] with 2 elements\n",
      "[0.12, 0.2, 0.2, 0.4, 0.6, 0.8, 0.89]\n"
     ]
    }
   ],
   "source": [
    "from math import floor\n",
    "\n",
    "\n",
    "def bucket_sort(A, debug=False):\n",
    "    \"\"\"\n",
    "    Inputs: A -- array of values between 0 and 1 (cannot include 1)\n",
    "    Outputs: a sorted array B\n",
    "    Notes:\n",
    "        A is untouched, non-destructive\n",
    "        This algorithm creates an array, B, of equal size to A,\n",
    "            where each element in B is an empty linked list.\n",
    "        As we sort A, we push values from A into the ocrresponding 'bucket' in B\n",
    "        At the end we sort each linked list in B and concatenate B and return the sorted array\n",
    "        The distribution of A determines how fast this algorithm is;\n",
    "            more specifically it determines how long the linked lists and how long the insertion sort takes\n",
    "            If all of the values get placed in the same bucket, then this algorithm performs an insertion sort\n",
    "    \"\"\"\n",
    "    dstr = '[bucket_sort] '\n",
    "    n = len(A)\n",
    "    if debug: print('{}n = {}'.format(dstr, n))\n",
    "    B = []\n",
    "    for i in range(n):\n",
    "        B.append([])\n",
    "\n",
    "    for i in range(n):\n",
    "        B[int(floor(n * A[i]))].append(A[i])\n",
    "\n",
    "    for i in range(n):\n",
    "        if len(B[i]) > 1:\n",
    "            if debug:\n",
    "                print('{}Performing sort on B[{}] with {} elements'.format(\n",
    "                    dstr, i, len(B[i])))\n",
    "            B[i].sort()\n",
    "\n",
    "    # Concatenate [ B[0], B[1], ..., B[n-1] ] and store in B[0]\n",
    "    for i in range(1, n):\n",
    "        B[0].extend(B[i])\n",
    "\n",
    "    return B[0]\n",
    "\n",
    "\n",
    "print(bucket_sort([0.2, 0.4, 0.2, 0.12, 0.8, 0.6, 0.89], debug=True))"
   ]
  },
  {
   "cell_type": "code",
   "execution_count": 49,
   "metadata": {},
   "outputs": [
    {
     "name": "stdout",
     "output_type": "stream",
     "text": [
      "Input Array: [0.4190875442192328, 0.7035831633493793, 0.31694945584697354, 0.24227605446786016, 0.1918463368254264, 0.04148859871231103, 0.34144107989133476, 0.06731057685759845, 0.2819148411024507, 0.7979855027694184, 0.06004198654548065, 0.9402649680912782, 0.5061013023708719, 0.2622866954199681, 0.8219070505053708, 0.48347054741943185, 0.19888285710367548, 0.28373410984274894, 0.5918166376992352, 0.3543689314567694]\n",
      "\n",
      "[bucket_sort] n = 20\n",
      "[bucket_sort] Performing sort on B[1] with 2 elements\n",
      "[bucket_sort] Performing sort on B[3] with 2 elements\n",
      "[bucket_sort] Performing sort on B[5] with 3 elements\n",
      "[bucket_sort] Performing sort on B[6] with 2 elements\n",
      "Output Array: [0.04148859871231103, 0.06004198654548065, 0.06731057685759845, 0.1918463368254264, 0.19888285710367548, 0.24227605446786016, 0.2622866954199681, 0.2819148411024507, 0.28373410984274894, 0.31694945584697354, 0.34144107989133476, 0.3543689314567694, 0.4190875442192328, 0.48347054741943185, 0.5061013023708719, 0.5918166376992352, 0.7035831633493793, 0.7979855027694184, 0.8219070505053708, 0.9402649680912782]\n"
     ]
    }
   ],
   "source": [
    "from random import random\n",
    "\n",
    "size_A = 20\n",
    "A = []\n",
    "for i in range(size_A):\n",
    "    A.append(random())\n",
    "\n",
    "print('Input Array: {}\\n'.format(A))\n",
    "print('Output Array: {}'.format(bucket_sort(A, debug=True)))"
   ]
  }
 ],
 "metadata": {
  "kernelspec": {
   "display_name": "Python [default]",
   "language": "python",
   "name": "python2"
  },
  "language_info": {
   "codemirror_mode": {
    "name": "ipython",
    "version": 2
   },
   "file_extension": ".py",
   "mimetype": "text/x-python",
   "name": "python",
   "nbconvert_exporter": "python",
   "pygments_lexer": "ipython2",
   "version": "2.7.13"
  },
  "toc": {
   "nav_menu": {},
   "number_sections": true,
   "sideBar": true,
   "skip_h1_title": false,
   "toc_cell": false,
   "toc_position": {},
   "toc_section_display": "block",
   "toc_window_display": false
  }
 },
 "nbformat": 4,
 "nbformat_minor": 2
}
