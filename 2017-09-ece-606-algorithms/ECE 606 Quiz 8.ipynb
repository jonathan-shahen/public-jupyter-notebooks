{
 "cells": [
  {
   "cell_type": "markdown",
   "metadata": {
    "toc": "true"
   },
   "source": [
    " # Table of Contents\n",
    "<div class=\"toc\" style=\"margin-top: 1em;\"><ul class=\"toc-item\" id=\"toc-level0\"><li><span><a href=\"http://localhost:8888/notebooks/2017-09-ece-606-algorithms/ECE%20606%20Quiz%208.ipynb#Quiz-8-Problem-1\" data-toc-modified-id=\"Quiz-8-Problem-1-1\"><span class=\"toc-item-num\">1&nbsp;&nbsp;</span>Quiz 8 Problem 1</a></span><ul class=\"toc-item\"><li><span><a href=\"http://localhost:8888/notebooks/2017-09-ece-606-algorithms/ECE%20606%20Quiz%208.ipynb#Simple-Graph-with-2-Shortest-Paths\" data-toc-modified-id=\"Simple-Graph-with-2-Shortest-Paths-1.1\"><span class=\"toc-item-num\">1.1&nbsp;&nbsp;</span>Simple Graph with 2 Shortest Paths</a></span><ul class=\"toc-item\"><li><span><a href=\"http://localhost:8888/notebooks/2017-09-ece-606-algorithms/ECE%20606%20Quiz%208.ipynb#CS-Academy-Graph-Generator\" data-toc-modified-id=\"CS-Academy-Graph-Generator-1.1.1\"><span class=\"toc-item-num\">1.1.1&nbsp;&nbsp;</span>CS Academy Graph Generator</a></span></li></ul></li><li><span><a href=\"http://localhost:8888/notebooks/2017-09-ece-606-algorithms/ECE%20606%20Quiz%208.ipynb#Dijkstra's-Algorithm-from-Lecture-9\" data-toc-modified-id=\"Dijkstra's-Algorithm-from-Lecture-9-1.2\"><span class=\"toc-item-num\">1.2&nbsp;&nbsp;</span>Dijkstra's Algorithm from Lecture 9</a></span></li><li><span><a href=\"http://localhost:8888/notebooks/2017-09-ece-606-algorithms/ECE%20606%20Quiz%208.ipynb#$S$-Does-not-hold-the-Shortest-Path,-it-Holds-ALL-Vertexes-in-$V$\" data-toc-modified-id=\"$S$-Does-not-hold-the-Shortest-Path,-it-Holds-ALL-Vertexes-in-$V$-1.3\"><span class=\"toc-item-num\">1.3&nbsp;&nbsp;</span>$S$ Does not hold the Shortest Path, it Holds ALL Vertexes in $V$</a></span><ul class=\"toc-item\"><li><span><a href=\"http://localhost:8888/notebooks/2017-09-ece-606-algorithms/ECE%20606%20Quiz%208.ipynb#Run-with-Debugging-Statements-on\" data-toc-modified-id=\"Run-with-Debugging-Statements-on-1.3.1\"><span class=\"toc-item-num\">1.3.1&nbsp;&nbsp;</span>Run with Debugging Statements on</a></span></li></ul></li><li><span><a href=\"http://localhost:8888/notebooks/2017-09-ece-606-algorithms/ECE%20606%20Quiz%208.ipynb#Converting-$u.\\pi$-into-shortest-path\" data-toc-modified-id=\"Converting-$u.\\pi$-into-shortest-path-1.4\"><span class=\"toc-item-num\">1.4&nbsp;&nbsp;</span>Converting $u.\\pi$ into shortest path</a></span></li><li><span><a href=\"http://localhost:8888/notebooks/2017-09-ece-606-algorithms/ECE%20606%20Quiz%208.ipynb#Mahesh's-Answer-with-Fix\" data-toc-modified-id=\"Mahesh's-Answer-with-Fix-1.5\"><span class=\"toc-item-num\">1.5&nbsp;&nbsp;</span>Mahesh's Answer with Fix</a></span></li><li><span><a href=\"http://localhost:8888/notebooks/2017-09-ece-606-algorithms/ECE%20606%20Quiz%208.ipynb#More-Examples\" data-toc-modified-id=\"More-Examples-1.6\"><span class=\"toc-item-num\">1.6&nbsp;&nbsp;</span>More Examples</a></span><ul class=\"toc-item\"><li><span><a href=\"http://localhost:8888/notebooks/2017-09-ece-606-algorithms/ECE%20606%20Quiz%208.ipynb#2-Shortest-Paths-and-1-slightly-Longer-One\" data-toc-modified-id=\"2-Shortest-Paths-and-1-slightly-Longer-One-1.6.1\"><span class=\"toc-item-num\">1.6.1&nbsp;&nbsp;</span>2 Shortest Paths and 1 slightly Longer One</a></span></li><li><span><a href=\"http://localhost:8888/notebooks/2017-09-ece-606-algorithms/ECE%20606%20Quiz%208.ipynb#1-Shortest-Path-and-1-slightly-Longer-One-(Mahesh-Error)\" data-toc-modified-id=\"1-Shortest-Path-and-1-slightly-Longer-One-(Mahesh-Error)-1.6.2\"><span class=\"toc-item-num\">1.6.2&nbsp;&nbsp;</span>1 Shortest Path and 1 slightly Longer One (Mahesh Error)</a></span></li></ul></li></ul></li></ul></div>"
   ]
  },
  {
   "cell_type": "markdown",
   "metadata": {},
   "source": [
    "# Quiz 8 Problem 1"
   ]
  },
  {
   "cell_type": "markdown",
   "metadata": {},
   "source": [
    "**Quiz 8, Question 1 (4points):** Two paths $a \\overset{p_1}{\\leadsto} b$ and $a \\overset{p_2}{\\leadsto} b$ are considered to be distinct if one of them contains an edge that is not in the other.\n",
    "\n",
    "Suppose $G = \\langle V, E \\rangle$ is a connected, unweighted, undirected graph, represented using an adjacency-list. Give an algorithm that takes three inputs: $G, a \\in V$, and, $b \\in V$, and **outputs two distinct shortest-paths from $a$ to $b$ in $G$**, if they exist, and 'error' otherwise.\n",
    "\n",
    "Your output can be, for example, as attributes $\\pi_1$ and $\\pi_2$ for each vertex, i.e., predecessor vertices in corresponding shortest-paths trees. Of course, as $G$ is unweighted, ''shortest-path'' means one of fewest number of edges.\n",
    "\n",
    "Your algorithm should run in time at worst quadratic in the size of the input. You can assume you have available, as a subroutine, any algorithm we have discussed in the course. Of course, any time your subroutine takes to run has to be part of the running-time of your algorithm.\n",
    "\n",
    "Note: Remember that both paths must start with $a$ and end with $b$."
   ]
  },
  {
   "cell_type": "markdown",
   "metadata": {},
   "source": [
    "## Simple Graph with 2 Shortest Paths"
   ]
  },
  {
   "cell_type": "code",
   "execution_count": 36,
   "metadata": {
    "collapsed": true
   },
   "outputs": [],
   "source": [
    "# Example Graph\n",
    "V1 = {1:{},2:{},3:{},4:{},5:{},6:{}}\n",
    "E1 = [(1,2), (2,3), (2,4), (3,5), (4,5), (5,6)]\n",
    "a=1\n",
    "b=6"
   ]
  },
  {
   "cell_type": "markdown",
   "metadata": {},
   "source": [
    "* Shortest Path from 1 to 6: [1, 2, 3, 5, 6]\n",
    "* Alternative Shortest Path from 1 to 6: [1, 2, 4, 5, 6]\n",
    "<img src=\"quiz8/graph.png\" style=\"width: 500px\"/>\n",
    "\n",
    "Graph created using: https://csacademy.com/app/graph_editor/"
   ]
  },
  {
   "cell_type": "markdown",
   "metadata": {},
   "source": [
    "### CS Academy Graph Generator"
   ]
  },
  {
   "cell_type": "markdown",
   "metadata": {},
   "source": [
    "At https://csacademy.com/app/graph_editor/ there is a nice features where you can input data text to produce a graph.\n",
    "\n",
    "The code below will take in a V and E and create the data required by csacademy.com"
   ]
  },
  {
   "cell_type": "code",
   "execution_count": 37,
   "metadata": {},
   "outputs": [
    {
     "name": "stdout",
     "output_type": "stream",
     "text": [
      "Node Count: 6\n",
      "Graph Data:\n",
      "1\n",
      "2\n",
      "3\n",
      "4\n",
      "5\n",
      "6\n",
      "1 2\n",
      "2 3\n",
      "2 4\n",
      "3 5\n",
      "4 5\n",
      "5 6\n",
      "\n"
     ]
    }
   ],
   "source": [
    "def csacademyGraph(V,E):\n",
    "    node_count = len(V)\n",
    "    graph_data = ''\n",
    "    \n",
    "    for v in V:\n",
    "        graph_data += '{}\\n'.format(v)\n",
    "    \n",
    "    for e in E:\n",
    "        graph_data += '{} {}\\n'.format(e[0], e[1])\n",
    "    \n",
    "    return node_count, graph_data\n",
    "\n",
    "n,g = csacademyGraph(V1, E1)\n",
    "print 'Node Count:', n\n",
    "print 'Graph Data:'\n",
    "print g"
   ]
  },
  {
   "cell_type": "markdown",
   "metadata": {},
   "source": [
    "## Dijkstra's Algorithm from Lecture 9"
   ]
  },
  {
   "cell_type": "code",
   "execution_count": 38,
   "metadata": {
    "collapsed": true
   },
   "outputs": [],
   "source": [
    "import copy\n",
    "\n",
    "infinity = 1000000\n",
    "nil = -1\n",
    "def Initialize_Sp(V, E, s):\n",
    "    for u in V:\n",
    "        V[u]['d'] = infinity\n",
    "        V[u]['pi'] = nil\n",
    "    V[s]['d'] = 0\n",
    "    \n",
    "def Extract_Min(V, Q):\n",
    "    # let u in Q minimize d\n",
    "    u = nil\n",
    "    idx = nil\n",
    "    for i in Q:\n",
    "        if u == nil:\n",
    "            u = V[i]\n",
    "            idx = i\n",
    "        else:\n",
    "            if V[i]['d'] < u['d']:\n",
    "                u = V[i]\n",
    "                idx = i\n",
    "    # Q <- Q \\ {u}\n",
    "    Q.remove(idx)\n",
    "    # return u\n",
    "    return u, idx\n",
    "    \n",
    "def EdgeSearch(E, Q, idx):\n",
    "    \"\"\"Returns all v such that: <u,v> in E and v in Q\"\"\"\n",
    "    vs = []\n",
    "    vs_idx = []\n",
    "    for e in E:\n",
    "        if e[0] == idx:\n",
    "            vs_idx.append(e[1])\n",
    "        elif e[1] == idx:\n",
    "            vs_idx.append(e[0])\n",
    "            \n",
    "    for v in vs_idx:\n",
    "        if v in Q:\n",
    "            vs.append(v)\n",
    "    \n",
    "    return vs\n",
    "    \n",
    "    \n",
    "def Relax_SP(V, u, v):\n",
    "    \"\"\"updated d and pi for 2 vertexes. u and v are indexes in V\"\"\"\n",
    "    if V[v]['d'] > V[u]['d'] + 1:\n",
    "        V[v]['d'] = V[u]['d'] + 1\n",
    "        V[v]['pi'] = u\n",
    "    \n",
    "def Dijkstra(V_orig,E_orig,s_orig, debug=True):\n",
    "    \"\"\"\n",
    "    Performs the Dijkstra algotrithm using the graph <V,E> \n",
    "    and the starting vertex s.\n",
    "    \n",
    "    Will return a modified V, E and from the notes: S (capital s)\n",
    "    S is returned to show a misunderstanding made in the class\n",
    "    \"\"\"\n",
    "    V = copy.deepcopy(V_orig)\n",
    "    E = copy.deepcopy(E_orig)\n",
    "    s = copy.deepcopy(s_orig)\n",
    "    \n",
    "    Initialize_Sp(V, E, s)\n",
    "    S = []\n",
    "    Q = copy.deepcopy(V.keys())\n",
    "    \n",
    "    while len(Q) != 0: # Q != empty set\n",
    "        # u <- Extract-Min(Q)\n",
    "        u,idx = Extract_Min(V, Q)\n",
    "        if debug:\n",
    "            print 'Extract_Min:', idx, u, '; Q:', Q\n",
    "        \n",
    "        # S <- S U {u}\n",
    "        S.append(idx)\n",
    "        \n",
    "        # foreach <u,v> in E, v in Q do\n",
    "        for v in EdgeSearch(E, Q, idx):\n",
    "            if debug:\n",
    "                print '  EdgeSearch: <{},{}>'.format(idx, v)\n",
    "            # Relax-SP(u,v, 1)\n",
    "            # assumes weight 1 for all edges\n",
    "            Relax_SP(V, idx, v)\n",
    "        if debug:\n",
    "            for v in V:\n",
    "                print '  {}:{}'.format(v, V[v])\n",
    "            print \n",
    "    \n",
    "    return V, E, S"
   ]
  },
  {
   "cell_type": "markdown",
   "metadata": {},
   "source": [
    "## $S$ Does not hold the Shortest Path, it Holds ALL Vertexes in $V$"
   ]
  },
  {
   "cell_type": "markdown",
   "metadata": {},
   "source": [
    "At the end of running dijkstra's algorithm the value of $S$ is equal to $V$, **not** the shortest path!"
   ]
  },
  {
   "cell_type": "code",
   "execution_count": 39,
   "metadata": {
    "scrolled": true
   },
   "outputs": [
    {
     "name": "stdout",
     "output_type": "stream",
     "text": [
      "V1:\n",
      "  1:{}\n",
      "  2:{}\n",
      "  3:{}\n",
      "  4:{}\n",
      "  5:{}\n",
      "  6:{}\n",
      "\n",
      "--------------------------------------------------\n",
      "\n",
      "Length of V: 6\n",
      "Length of S: 6\n",
      "S: [1, 2, 3, 4, 5, 6]\n",
      "V:\n",
      "  1:{'pi': -1, 'd': 0}\n",
      "  2:{'pi': 1, 'd': 1}\n",
      "  3:{'pi': 2, 'd': 2}\n",
      "  4:{'pi': 2, 'd': 2}\n",
      "  5:{'pi': 3, 'd': 3}\n",
      "  6:{'pi': 5, 'd': 4}\n"
     ]
    }
   ],
   "source": [
    "print 'V1:'\n",
    "for v in V1:\n",
    "    print '  {}:{}'.format(v, V1[v])\n",
    "\n",
    "V, E, S = Dijkstra(V1, E1, a, debug=False)\n",
    "print\n",
    "print '-'*50\n",
    "print \n",
    "print 'Length of V: {}\\nLength of S: {}'.format(len(V), len(S))\n",
    "print 'S:', S\n",
    "print 'V:'\n",
    "for v in V:\n",
    "    print '  {}:{}'.format(v, V[v])"
   ]
  },
  {
   "cell_type": "markdown",
   "metadata": {},
   "source": [
    "### Run with Debugging Statements on"
   ]
  },
  {
   "cell_type": "code",
   "execution_count": 40,
   "metadata": {
    "scrolled": true
   },
   "outputs": [
    {
     "name": "stdout",
     "output_type": "stream",
     "text": [
      "Extract_Min: 1 {'pi': -1, 'd': 0} ; Q: [2, 3, 4, 5, 6]\n",
      "  EdgeSearch: <1,2>\n",
      "  1:{'pi': -1, 'd': 0}\n",
      "  2:{'pi': 1, 'd': 1}\n",
      "  3:{'pi': -1, 'd': 1000000}\n",
      "  4:{'pi': -1, 'd': 1000000}\n",
      "  5:{'pi': -1, 'd': 1000000}\n",
      "  6:{'pi': -1, 'd': 1000000}\n",
      "\n",
      "Extract_Min: 2 {'pi': 1, 'd': 1} ; Q: [3, 4, 5, 6]\n",
      "  EdgeSearch: <2,3>\n",
      "  EdgeSearch: <2,4>\n",
      "  1:{'pi': -1, 'd': 0}\n",
      "  2:{'pi': 1, 'd': 1}\n",
      "  3:{'pi': 2, 'd': 2}\n",
      "  4:{'pi': 2, 'd': 2}\n",
      "  5:{'pi': -1, 'd': 1000000}\n",
      "  6:{'pi': -1, 'd': 1000000}\n",
      "\n",
      "Extract_Min: 3 {'pi': 2, 'd': 2} ; Q: [4, 5, 6]\n",
      "  EdgeSearch: <3,5>\n",
      "  1:{'pi': -1, 'd': 0}\n",
      "  2:{'pi': 1, 'd': 1}\n",
      "  3:{'pi': 2, 'd': 2}\n",
      "  4:{'pi': 2, 'd': 2}\n",
      "  5:{'pi': 3, 'd': 3}\n",
      "  6:{'pi': -1, 'd': 1000000}\n",
      "\n",
      "Extract_Min: 4 {'pi': 2, 'd': 2} ; Q: [5, 6]\n",
      "  EdgeSearch: <4,5>\n",
      "  1:{'pi': -1, 'd': 0}\n",
      "  2:{'pi': 1, 'd': 1}\n",
      "  3:{'pi': 2, 'd': 2}\n",
      "  4:{'pi': 2, 'd': 2}\n",
      "  5:{'pi': 3, 'd': 3}\n",
      "  6:{'pi': -1, 'd': 1000000}\n",
      "\n",
      "Extract_Min: 5 {'pi': 3, 'd': 3} ; Q: [6]\n",
      "  EdgeSearch: <5,6>\n",
      "  1:{'pi': -1, 'd': 0}\n",
      "  2:{'pi': 1, 'd': 1}\n",
      "  3:{'pi': 2, 'd': 2}\n",
      "  4:{'pi': 2, 'd': 2}\n",
      "  5:{'pi': 3, 'd': 3}\n",
      "  6:{'pi': 5, 'd': 4}\n",
      "\n",
      "Extract_Min: 6 {'pi': 5, 'd': 4} ; Q: []\n",
      "  1:{'pi': -1, 'd': 0}\n",
      "  2:{'pi': 1, 'd': 1}\n",
      "  3:{'pi': 2, 'd': 2}\n",
      "  4:{'pi': 2, 'd': 2}\n",
      "  5:{'pi': 3, 'd': 3}\n",
      "  6:{'pi': 5, 'd': 4}\n",
      "\n",
      "\n",
      "--------------------------------------------------\n",
      "\n",
      "Length of V: 6\n",
      "Length of S: 6\n",
      "S: [1, 2, 3, 4, 5, 6]\n",
      "V:\n",
      "  1:{'pi': -1, 'd': 0}\n",
      "  2:{'pi': 1, 'd': 1}\n",
      "  3:{'pi': 2, 'd': 2}\n",
      "  4:{'pi': 2, 'd': 2}\n",
      "  5:{'pi': 3, 'd': 3}\n",
      "  6:{'pi': 5, 'd': 4}\n"
     ]
    }
   ],
   "source": [
    "V, E, S = Dijkstra(V1, E1, a, debug=True)\n",
    "print\n",
    "print '-'*50\n",
    "print \n",
    "print 'Length of V: {}\\nLength of S: {}'.format(len(V), len(S))\n",
    "print 'S:', S\n",
    "print 'V:'\n",
    "for v in V:\n",
    "    print '  {}:{}'.format(v, V[v])"
   ]
  },
  {
   "cell_type": "markdown",
   "metadata": {},
   "source": [
    "## Converting $u.\\pi$ into shortest path"
   ]
  },
  {
   "cell_type": "markdown",
   "metadata": {},
   "source": [
    "After running Dijkstra's algorithm, it is easily to convert the new graph (new because there are new descriptors for each vertex) into a shortest path"
   ]
  },
  {
   "cell_type": "code",
   "execution_count": 41,
   "metadata": {
    "collapsed": true
   },
   "outputs": [],
   "source": [
    "def shortestPath(V, a, b, pi='pi'):\n",
    "    \"\"\"\n",
    "    Returns a list of vertexes which is the shortest path from a to b for graph V.\n",
    "    NOTE: Dijkstra's algorithm must be run on V\n",
    "    \"\"\"\n",
    "    if V[b][pi] == nil or V[b]['d'] == infinity:\n",
    "        return 'error: no path'\n",
    "    \n",
    "    path = [b]\n",
    "    while True:\n",
    "        t = path[0]\n",
    "        if t == a:\n",
    "            return path\n",
    "        if t == nil:\n",
    "            return '[ERROR] Reached the root, no parents to follow. Unable to create a path from {} to {}'.format(a,b)\n",
    "            \n",
    "        path.insert(0, V[t][pi])"
   ]
  },
  {
   "cell_type": "code",
   "execution_count": 42,
   "metadata": {
    "scrolled": true
   },
   "outputs": [
    {
     "name": "stdout",
     "output_type": "stream",
     "text": [
      "Shortest path from 1 to 6: [1, 2, 3, 5, 6]\n",
      "Shortest path from 1 to 4: [1, 2, 4]\n"
     ]
    }
   ],
   "source": [
    "print 'Shortest path from {} to {}: {}'.format(a,b,shortestPath(V, a, b))\n",
    "print 'Shortest path from {} to {}: {}'.format(a,4,shortestPath(V, a, 4))"
   ]
  },
  {
   "cell_type": "markdown",
   "metadata": {},
   "source": [
    "Be careful that the shortest path algorithm relies on Dijkstra's algorithm being run with the same $a$ input. \n",
    "\n",
    "Above going from 1 to 4 is still correct, but below is an example where it is wrong:"
   ]
  },
  {
   "cell_type": "code",
   "execution_count": 43,
   "metadata": {
    "scrolled": true
   },
   "outputs": [
    {
     "name": "stdout",
     "output_type": "stream",
     "text": [
      "Shortest path from 3 to 4: [ERROR] Reached the root, no parents to follow. Unable to create a path from 3 to 4\n"
     ]
    }
   ],
   "source": [
    "print 'Shortest path from {} to {}: {}'.format(3,4,shortestPath(V, 3,4))"
   ]
  },
  {
   "cell_type": "markdown",
   "metadata": {},
   "source": [
    "We can fix this issue by running dijkstra's algorithm with the correct parameters:"
   ]
  },
  {
   "cell_type": "code",
   "execution_count": 44,
   "metadata": {
    "scrolled": true
   },
   "outputs": [
    {
     "name": "stdout",
     "output_type": "stream",
     "text": [
      "Shortest path from 3 to 4: [3, 2, 4]\n"
     ]
    }
   ],
   "source": [
    "V3, _, _ = Dijkstra(V1, E1, 3, debug=False)\n",
    "print 'Shortest path from {} to {}: {}'.format(3,4,shortestPath(V3, 3,4))"
   ]
  },
  {
   "cell_type": "markdown",
   "metadata": {},
   "source": [
    "## Mahesh's Answer with Fix"
   ]
  },
  {
   "cell_type": "markdown",
   "metadata": {},
   "source": [
    "AnotherSP$(G, a, b)$\n",
    "1. *Bfs*$(G, a, \\pi_1)$\n",
    "1. $len \\gets b.d$\n",
    "1. $u \\gets b$\n",
    "1. **While**($u \\not= a$){\n",
    "1. &nbsp;&nbsp;&nbsp;&nbsp; $E^\\prime \\gets E \\setminus \\{\\langle u.\\pi_1, u \\rangle\\}$\n",
    "1. &nbsp;&nbsp;&nbsp;&nbsp; *Bfs*$(\\langle V, E^\\prime \\rangle, a, \\pi_2)$\n",
    "1. &nbsp;&nbsp;&nbsp;&nbsp; **If**( $b.\\pi_2 \\not=$ **Nil** _and_ $len  == b.d$ ) { **Return** $\\pi_1, \\pi_2$ }\n",
    "1. &nbsp;&nbsp;&nbsp;&nbsp; }\n",
    "1. &nbsp;&nbsp;&nbsp;&nbsp; $u \\gets u.\\pi_1$\n",
    "1. }\n",
    "1. **Return** error"
   ]
  },
  {
   "cell_type": "code",
   "execution_count": 66,
   "metadata": {
    "collapsed": true
   },
   "outputs": [],
   "source": [
    "pi_1 = 'pi_1'\n",
    "pi_2 = 'pi_2'\n",
    "W = 'white'\n",
    "G = 'gray'\n",
    "B = 'black'\n",
    "NIL = -1\n",
    "\n",
    "def FindEdges(E, u, debug=False):\n",
    "    \"\"\"Given u and E: find all v such that <u,v> in E\"\"\"\n",
    "    vs = []\n",
    "    for e in E:\n",
    "        if e[0] == u:\n",
    "            vs.append(e[1])\n",
    "        elif e[1] == u:\n",
    "            vs.append(e[0])\n",
    "    if debug: print '[FindEdges] {}: {}'.format(u, vs)\n",
    "    return vs\n",
    "\n",
    "def bfs(V, E, s, pi=pi_1, debug=False):\n",
    "    \"\"\"\n",
    "    Performs a breath first search (BFS) on graph <V,E>, \n",
    "    starting at vertex s and applying the parents to variable pi\n",
    "    \"\"\"\n",
    "    for u in V:\n",
    "        V[u]['colour'] = W\n",
    "        V[u]['d'] = infinity\n",
    "        V[u][pi] = NIL\n",
    "    V[s]['colour'] = G\n",
    "    V[s]['d'] = 0\n",
    "    V[s][pi] = NIL\n",
    "    \n",
    "    Q = [s]\n",
    "    while len(Q) != 0:\n",
    "        u = Q.pop(0) # take the first element and remove from list\n",
    "        if debug: print '[BFS] u = {}'.format(u)\n",
    "        for v in FindEdges(E, u, debug=debug):\n",
    "            if V[v]['colour'] == W:\n",
    "                V[v]['colour'] = G\n",
    "                V[v]['d'] = V[u]['d'] + 1\n",
    "                V[v][pi] = u\n",
    "                Q.append(v)\n",
    "        \n",
    "        V[u]['colour'] = B\n",
    "\n",
    "def CopyAndRemoveEdge(E, v, u):\n",
    "    E_ = copy.deepcopy(E)\n",
    "    \n",
    "    for e in E_:\n",
    "        if e[0] == v and e[1] == u:\n",
    "            # if <v,u> in E_\n",
    "            E_.remove(e)\n",
    "        elif e[1] == v and e[0] == u:\n",
    "            # if <u,v> in E_\n",
    "            E_.remove(e)\n",
    "    \n",
    "    return E_\n",
    "    \n",
    "def AnotherSP(V, E, a, b, debug=False):\n",
    "    bfs(V,E, a, pi=pi_1)\n",
    "    p1_len = V[b]['d'] # FIX ADDED\n",
    "    \n",
    "    u = b\n",
    "    while(u != a):\n",
    "        E_ = CopyAndRemoveEdge(E, V[u][pi_1], u) # E' <- E \\ {u.pi, u}\n",
    "        bfs(V, E_, a, pi=pi_2, debug=debug)\n",
    "        \n",
    "        if(V[b][pi_2] != NIL):\n",
    "            if debug: print '[AnotherSP] Looking at second path possibility: b.d = {}'.format(V[b]['d'])\n",
    "                \n",
    "            if p1_len == V[b]['d']:# FIX ADDED\n",
    "                p1 = shortestPath(V, a, b, pi=pi_1) # FIX ADDED\n",
    "                p2 = shortestPath(V, a, b, pi=pi_2) # FIX ADDED\n",
    "                return p1, p2\n",
    "        \n",
    "        u = V[u][pi_1]\n",
    "    \n",
    "    return 'error'\n",
    "    "
   ]
  },
  {
   "cell_type": "code",
   "execution_count": 67,
   "metadata": {},
   "outputs": [
    {
     "name": "stdout",
     "output_type": "stream",
     "text": [
      "V1:\n",
      "  1:{}\n",
      "  2:{}\n",
      "  3:{}\n",
      "  4:{}\n",
      "  5:{}\n",
      "  6:{}\n",
      "AnotherSP: ([1, 2, 3, 5, 6], [1, 2, 4, 5, 6])\n",
      "V:\n",
      "  1:{'pi_1': -1, 'colour': 'black', 'pi_2': -1, 'd': 0}\n",
      "  2:{'pi_1': 1, 'colour': 'black', 'pi_2': 1, 'd': 1}\n",
      "  3:{'pi_1': 2, 'colour': 'black', 'pi_2': 2, 'd': 2}\n",
      "  4:{'pi_1': 2, 'colour': 'black', 'pi_2': 2, 'd': 2}\n",
      "  5:{'pi_1': 3, 'colour': 'black', 'pi_2': 4, 'd': 3}\n",
      "  6:{'pi_1': 5, 'colour': 'black', 'pi_2': 5, 'd': 4}\n"
     ]
    }
   ],
   "source": [
    "V_test = copy.deepcopy(V1)\n",
    "E_test = copy.deepcopy(E1)\n",
    "\n",
    "print 'V1:'\n",
    "for v in V1:\n",
    "    print '  {}:{}'.format(v, V1[v])\n",
    "\n",
    "print 'AnotherSP:', AnotherSP(V_test, E_test, a, b)\n",
    "\n",
    "print 'V:'\n",
    "for v in V_test:\n",
    "    print '  {}:{}'.format(v, V_test[v])"
   ]
  },
  {
   "cell_type": "markdown",
   "metadata": {},
   "source": [
    "## More Examples"
   ]
  },
  {
   "cell_type": "markdown",
   "metadata": {},
   "source": [
    "### 2 Shortest Paths and 1 slightly Longer One"
   ]
  },
  {
   "cell_type": "code",
   "execution_count": 68,
   "metadata": {},
   "outputs": [],
   "source": [
    "V2 = {1:{},2:{},3:{},4:{},5:{},6:{},7:{},8:{},9:{},10:{}}\n",
    "E2 = [(1,2), (2,3), (2,4), (2,5), (3,6), (4,7), (5,8), (6,10), (7, 10), (8,9), (9,10)]\n",
    "a2=1\n",
    "b2=10"
   ]
  },
  {
   "cell_type": "markdown",
   "metadata": {},
   "source": [
    "<img src=\"quiz8/graph2.png\" style=\"width: 500px\"/>"
   ]
  },
  {
   "cell_type": "code",
   "execution_count": 69,
   "metadata": {},
   "outputs": [
    {
     "name": "stdout",
     "output_type": "stream",
     "text": [
      "AnotherSP: ([1, 2, 3, 6, 10], [1, 2, 4, 7, 10])\n",
      "V:\n",
      "  1:{'pi_1': -1, 'colour': 'black', 'pi_2': -1, 'd': 0}\n",
      "  2:{'pi_1': 1, 'colour': 'black', 'pi_2': 1, 'd': 1}\n",
      "  3:{'pi_1': 2, 'colour': 'black', 'pi_2': 2, 'd': 2}\n",
      "  4:{'pi_1': 2, 'colour': 'black', 'pi_2': 2, 'd': 2}\n",
      "  5:{'pi_1': 2, 'colour': 'black', 'pi_2': 2, 'd': 2}\n",
      "  6:{'pi_1': 3, 'colour': 'black', 'pi_2': 3, 'd': 3}\n",
      "  7:{'pi_1': 4, 'colour': 'black', 'pi_2': 4, 'd': 3}\n",
      "  8:{'pi_1': 5, 'colour': 'black', 'pi_2': 5, 'd': 3}\n",
      "  9:{'pi_1': 8, 'colour': 'black', 'pi_2': 8, 'd': 4}\n",
      "  10:{'pi_1': 6, 'colour': 'black', 'pi_2': 7, 'd': 4}\n"
     ]
    }
   ],
   "source": [
    "V_test = copy.deepcopy(V2)\n",
    "E_test = copy.deepcopy(E2)\n",
    "print 'AnotherSP:', AnotherSP(V_test, E_test, a2, b2)\n",
    "\n",
    "print 'V:'\n",
    "for v in V_test:\n",
    "    print '  {}:{}'.format(v, V_test[v])"
   ]
  },
  {
   "cell_type": "markdown",
   "metadata": {},
   "source": [
    "### 1 Shortest Path and 1 slightly Longer One (Mahesh Error)"
   ]
  },
  {
   "cell_type": "code",
   "execution_count": 70,
   "metadata": {},
   "outputs": [],
   "source": [
    "V3 = {1:{},2:{},3:{},4:{},5:{},6:{},7:{},8:{}}\n",
    "E3 = [(1,2), (2,3), (2,4), (3,5), (4,6), (5,7), (6,8), (7, 8)]\n",
    "a3=1\n",
    "b3=8\n",
    "# print csacademyGraph(V3, E3)[1]"
   ]
  },
  {
   "cell_type": "markdown",
   "metadata": {},
   "source": [
    "<img src=\"quiz8/graph3.png\" style=\"width: 500px;\"/>"
   ]
  },
  {
   "cell_type": "code",
   "execution_count": 71,
   "metadata": {
    "scrolled": true
   },
   "outputs": [
    {
     "name": "stdout",
     "output_type": "stream",
     "text": [
      "AnotherSP: error\n",
      "V:\n",
      "  1:{'pi_1': -1, 'colour': 'black', 'pi_2': -1, 'd': 0}\n",
      "  2:{'pi_1': 1, 'colour': 'white', 'pi_2': -1, 'd': 1000000}\n",
      "  3:{'pi_1': 2, 'colour': 'white', 'pi_2': -1, 'd': 1000000}\n",
      "  4:{'pi_1': 2, 'colour': 'white', 'pi_2': -1, 'd': 1000000}\n",
      "  5:{'pi_1': 3, 'colour': 'white', 'pi_2': -1, 'd': 1000000}\n",
      "  6:{'pi_1': 4, 'colour': 'white', 'pi_2': -1, 'd': 1000000}\n",
      "  7:{'pi_1': 5, 'colour': 'white', 'pi_2': -1, 'd': 1000000}\n",
      "  8:{'pi_1': 6, 'colour': 'white', 'pi_2': -1, 'd': 1000000}\n"
     ]
    }
   ],
   "source": [
    "V_test = copy.deepcopy(V3)\n",
    "E_test = copy.deepcopy(E3)\n",
    "print 'AnotherSP:', AnotherSP(V_test, E_test, a3, b3, debug=False)\n",
    "\n",
    "print 'V:'\n",
    "for v in V_test:\n",
    "    print '  {}:{}'.format(v, V_test[v])"
   ]
  }
 ],
 "metadata": {
  "kernelspec": {
   "display_name": "Python [default]",
   "language": "python",
   "name": "python2"
  },
  "language_info": {
   "codemirror_mode": {
    "name": "ipython",
    "version": 2
   },
   "file_extension": ".py",
   "mimetype": "text/x-python",
   "name": "python",
   "nbconvert_exporter": "python",
   "pygments_lexer": "ipython2",
   "version": "2.7.13"
  },
  "toc": {
   "nav_menu": {},
   "number_sections": true,
   "sideBar": true,
   "skip_h1_title": false,
   "toc_cell": true,
   "toc_position": {},
   "toc_section_display": "block",
   "toc_window_display": true
  }
 },
 "nbformat": 4,
 "nbformat_minor": 2
}
